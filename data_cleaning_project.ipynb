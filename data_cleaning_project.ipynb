{
 "cells": [
  {
   "cell_type": "code",
   "execution_count": 263,
   "id": "21e06368-5c76-44c6-a7ee-29c66c007cfd",
   "metadata": {},
   "outputs": [],
   "source": [
    "import pandas as pd"
   ]
  },
  {
   "cell_type": "code",
   "execution_count": 264,
   "id": "d5652b61-4e89-45ae-b728-9b8ee15e161f",
   "metadata": {},
   "outputs": [],
   "source": [
    "import matplotlib.pyplot as plt"
   ]
  },
  {
   "cell_type": "code",
   "execution_count": 265,
   "id": "36b74723-bc4a-4dac-98d2-aa7d056fcbcf",
   "metadata": {},
   "outputs": [],
   "source": [
    "import seaborn as sns"
   ]
  },
  {
   "cell_type": "code",
   "execution_count": 266,
   "id": "7eaf4291-5afe-4069-8af3-a2aef68809bb",
   "metadata": {},
   "outputs": [],
   "source": [
    "import re\n",
    "import numpy as np"
   ]
  },
  {
   "cell_type": "code",
   "execution_count": 267,
   "id": "64879f5e-36a3-4aa4-a1e0-65c9ed9328ee",
   "metadata": {},
   "outputs": [],
   "source": [
    "import os"
   ]
  },
  {
   "cell_type": "code",
   "execution_count": 268,
   "id": "49f8879b-80c2-478e-bfbd-0247c8e70828",
   "metadata": {},
   "outputs": [],
   "source": [
    "def data_segregation(df):\n",
    "    global string, numeric,col\n",
    "    string=df.select_dtypes(include=\"object\")\n",
    "    numeric=df.select_dtypes(include=\"number\")\n",
    "    string=pd.DataFrame(string)\n",
    "    numeric=pd.DataFrame(numeric)\n",
    "    col=numeric.columns\n",
    "    numeric = numeric.apply(pd.to_numeric, downcast=\"integer\")\n",
    "    numeric = numeric.apply(pd.to_numeric, downcast=\"float\")\n",
    "    string=string.apply(pd.to_numeric, downcast=\"object\")"
   ]
  },
  {
   "cell_type": "code",
   "execution_count": null,
   "id": "406d27d7-274f-4cf0-a91e-dbc64a1c0a59",
   "metadata": {},
   "outputs": [],
   "source": []
  },
  {
   "cell_type": "code",
   "execution_count": 269,
   "id": "50e13cdf-fb15-4b2b-a9d7-a1e07cea7761",
   "metadata": {},
   "outputs": [
    {
     "name": "stdin",
     "output_type": "stream",
     "text": [
      "Enter the path of the file (use CNTRL+SHIFT+C to copy path):  e\n"
     ]
    },
    {
     "name": "stdout",
     "output_type": "stream",
     "text": [
      "Debug: Processed file path - C:\\Users\\Gursimar Singh Phull\\e\n"
     ]
    }
   ],
   "source": [
    "file=input(\"Enter the path of the file (use CNTRL+SHIFT+C to copy path): \").strip()\n",
    "file = file.strip('\"').strip(\"'\")  # Remove surrounding quotes\n",
    "file = os.path.abspath(file)  # Normalize path\n",
    "print(f\"Debug: Processed file path - {file}\")\n",
    "        "
   ]
  },
  {
   "cell_type": "code",
   "execution_count": 271,
   "id": "67a7e4ea-3dcc-4ff2-a1b1-f00909224bb5",
   "metadata": {},
   "outputs": [],
   "source": [
    "# path=path.strip()\n"
   ]
  },
  {
   "cell_type": "code",
   "execution_count": 272,
   "id": "3a6a84af-f2ff-488a-996a-a003efb57b7c",
   "metadata": {},
   "outputs": [],
   "source": [
    " # path=r\"path\""
   ]
  },
  {
   "cell_type": "code",
   "execution_count": 273,
   "id": "0f0ca311-379f-4093-abc4-28f917b34744",
   "metadata": {},
   "outputs": [
    {
     "ename": "FileNotFoundError",
     "evalue": "[Errno 2] No such file or directory: 'C:\\\\Users\\\\Gursimar Singh Phull\\\\e'",
     "output_type": "error",
     "traceback": [
      "\u001b[1;31m---------------------------------------------------------------------------\u001b[0m",
      "\u001b[1;31mFileNotFoundError\u001b[0m                         Traceback (most recent call last)",
      "Cell \u001b[1;32mIn[273], line 4\u001b[0m\n\u001b[0;32m      2\u001b[0m     df\u001b[38;5;241m=\u001b[39mpd\u001b[38;5;241m.\u001b[39mread_xlsx(file)\n\u001b[0;32m      3\u001b[0m \u001b[38;5;28;01melse\u001b[39;00m:\n\u001b[1;32m----> 4\u001b[0m     df\u001b[38;5;241m=\u001b[39m\u001b[43mpd\u001b[49m\u001b[38;5;241;43m.\u001b[39;49m\u001b[43mread_csv\u001b[49m\u001b[43m(\u001b[49m\u001b[43mfile\u001b[49m\u001b[43m)\u001b[49m\n",
      "File \u001b[1;32m~\\AppData\\Local\\Programs\\Python\\Python313\\Lib\\site-packages\\pandas\\io\\parsers\\readers.py:1026\u001b[0m, in \u001b[0;36mread_csv\u001b[1;34m(filepath_or_buffer, sep, delimiter, header, names, index_col, usecols, dtype, engine, converters, true_values, false_values, skipinitialspace, skiprows, skipfooter, nrows, na_values, keep_default_na, na_filter, verbose, skip_blank_lines, parse_dates, infer_datetime_format, keep_date_col, date_parser, date_format, dayfirst, cache_dates, iterator, chunksize, compression, thousands, decimal, lineterminator, quotechar, quoting, doublequote, escapechar, comment, encoding, encoding_errors, dialect, on_bad_lines, delim_whitespace, low_memory, memory_map, float_precision, storage_options, dtype_backend)\u001b[0m\n\u001b[0;32m   1013\u001b[0m kwds_defaults \u001b[38;5;241m=\u001b[39m _refine_defaults_read(\n\u001b[0;32m   1014\u001b[0m     dialect,\n\u001b[0;32m   1015\u001b[0m     delimiter,\n\u001b[1;32m   (...)\u001b[0m\n\u001b[0;32m   1022\u001b[0m     dtype_backend\u001b[38;5;241m=\u001b[39mdtype_backend,\n\u001b[0;32m   1023\u001b[0m )\n\u001b[0;32m   1024\u001b[0m kwds\u001b[38;5;241m.\u001b[39mupdate(kwds_defaults)\n\u001b[1;32m-> 1026\u001b[0m \u001b[38;5;28;01mreturn\u001b[39;00m \u001b[43m_read\u001b[49m\u001b[43m(\u001b[49m\u001b[43mfilepath_or_buffer\u001b[49m\u001b[43m,\u001b[49m\u001b[43m \u001b[49m\u001b[43mkwds\u001b[49m\u001b[43m)\u001b[49m\n",
      "File \u001b[1;32m~\\AppData\\Local\\Programs\\Python\\Python313\\Lib\\site-packages\\pandas\\io\\parsers\\readers.py:620\u001b[0m, in \u001b[0;36m_read\u001b[1;34m(filepath_or_buffer, kwds)\u001b[0m\n\u001b[0;32m    617\u001b[0m _validate_names(kwds\u001b[38;5;241m.\u001b[39mget(\u001b[38;5;124m\"\u001b[39m\u001b[38;5;124mnames\u001b[39m\u001b[38;5;124m\"\u001b[39m, \u001b[38;5;28;01mNone\u001b[39;00m))\n\u001b[0;32m    619\u001b[0m \u001b[38;5;66;03m# Create the parser.\u001b[39;00m\n\u001b[1;32m--> 620\u001b[0m parser \u001b[38;5;241m=\u001b[39m \u001b[43mTextFileReader\u001b[49m\u001b[43m(\u001b[49m\u001b[43mfilepath_or_buffer\u001b[49m\u001b[43m,\u001b[49m\u001b[43m \u001b[49m\u001b[38;5;241;43m*\u001b[39;49m\u001b[38;5;241;43m*\u001b[39;49m\u001b[43mkwds\u001b[49m\u001b[43m)\u001b[49m\n\u001b[0;32m    622\u001b[0m \u001b[38;5;28;01mif\u001b[39;00m chunksize \u001b[38;5;129;01mor\u001b[39;00m iterator:\n\u001b[0;32m    623\u001b[0m     \u001b[38;5;28;01mreturn\u001b[39;00m parser\n",
      "File \u001b[1;32m~\\AppData\\Local\\Programs\\Python\\Python313\\Lib\\site-packages\\pandas\\io\\parsers\\readers.py:1620\u001b[0m, in \u001b[0;36mTextFileReader.__init__\u001b[1;34m(self, f, engine, **kwds)\u001b[0m\n\u001b[0;32m   1617\u001b[0m     \u001b[38;5;28mself\u001b[39m\u001b[38;5;241m.\u001b[39moptions[\u001b[38;5;124m\"\u001b[39m\u001b[38;5;124mhas_index_names\u001b[39m\u001b[38;5;124m\"\u001b[39m] \u001b[38;5;241m=\u001b[39m kwds[\u001b[38;5;124m\"\u001b[39m\u001b[38;5;124mhas_index_names\u001b[39m\u001b[38;5;124m\"\u001b[39m]\n\u001b[0;32m   1619\u001b[0m \u001b[38;5;28mself\u001b[39m\u001b[38;5;241m.\u001b[39mhandles: IOHandles \u001b[38;5;241m|\u001b[39m \u001b[38;5;28;01mNone\u001b[39;00m \u001b[38;5;241m=\u001b[39m \u001b[38;5;28;01mNone\u001b[39;00m\n\u001b[1;32m-> 1620\u001b[0m \u001b[38;5;28mself\u001b[39m\u001b[38;5;241m.\u001b[39m_engine \u001b[38;5;241m=\u001b[39m \u001b[38;5;28;43mself\u001b[39;49m\u001b[38;5;241;43m.\u001b[39;49m\u001b[43m_make_engine\u001b[49m\u001b[43m(\u001b[49m\u001b[43mf\u001b[49m\u001b[43m,\u001b[49m\u001b[43m \u001b[49m\u001b[38;5;28;43mself\u001b[39;49m\u001b[38;5;241;43m.\u001b[39;49m\u001b[43mengine\u001b[49m\u001b[43m)\u001b[49m\n",
      "File \u001b[1;32m~\\AppData\\Local\\Programs\\Python\\Python313\\Lib\\site-packages\\pandas\\io\\parsers\\readers.py:1880\u001b[0m, in \u001b[0;36mTextFileReader._make_engine\u001b[1;34m(self, f, engine)\u001b[0m\n\u001b[0;32m   1878\u001b[0m     \u001b[38;5;28;01mif\u001b[39;00m \u001b[38;5;124m\"\u001b[39m\u001b[38;5;124mb\u001b[39m\u001b[38;5;124m\"\u001b[39m \u001b[38;5;129;01mnot\u001b[39;00m \u001b[38;5;129;01min\u001b[39;00m mode:\n\u001b[0;32m   1879\u001b[0m         mode \u001b[38;5;241m+\u001b[39m\u001b[38;5;241m=\u001b[39m \u001b[38;5;124m\"\u001b[39m\u001b[38;5;124mb\u001b[39m\u001b[38;5;124m\"\u001b[39m\n\u001b[1;32m-> 1880\u001b[0m \u001b[38;5;28mself\u001b[39m\u001b[38;5;241m.\u001b[39mhandles \u001b[38;5;241m=\u001b[39m \u001b[43mget_handle\u001b[49m\u001b[43m(\u001b[49m\n\u001b[0;32m   1881\u001b[0m \u001b[43m    \u001b[49m\u001b[43mf\u001b[49m\u001b[43m,\u001b[49m\n\u001b[0;32m   1882\u001b[0m \u001b[43m    \u001b[49m\u001b[43mmode\u001b[49m\u001b[43m,\u001b[49m\n\u001b[0;32m   1883\u001b[0m \u001b[43m    \u001b[49m\u001b[43mencoding\u001b[49m\u001b[38;5;241;43m=\u001b[39;49m\u001b[38;5;28;43mself\u001b[39;49m\u001b[38;5;241;43m.\u001b[39;49m\u001b[43moptions\u001b[49m\u001b[38;5;241;43m.\u001b[39;49m\u001b[43mget\u001b[49m\u001b[43m(\u001b[49m\u001b[38;5;124;43m\"\u001b[39;49m\u001b[38;5;124;43mencoding\u001b[39;49m\u001b[38;5;124;43m\"\u001b[39;49m\u001b[43m,\u001b[49m\u001b[43m \u001b[49m\u001b[38;5;28;43;01mNone\u001b[39;49;00m\u001b[43m)\u001b[49m\u001b[43m,\u001b[49m\n\u001b[0;32m   1884\u001b[0m \u001b[43m    \u001b[49m\u001b[43mcompression\u001b[49m\u001b[38;5;241;43m=\u001b[39;49m\u001b[38;5;28;43mself\u001b[39;49m\u001b[38;5;241;43m.\u001b[39;49m\u001b[43moptions\u001b[49m\u001b[38;5;241;43m.\u001b[39;49m\u001b[43mget\u001b[49m\u001b[43m(\u001b[49m\u001b[38;5;124;43m\"\u001b[39;49m\u001b[38;5;124;43mcompression\u001b[39;49m\u001b[38;5;124;43m\"\u001b[39;49m\u001b[43m,\u001b[49m\u001b[43m \u001b[49m\u001b[38;5;28;43;01mNone\u001b[39;49;00m\u001b[43m)\u001b[49m\u001b[43m,\u001b[49m\n\u001b[0;32m   1885\u001b[0m \u001b[43m    \u001b[49m\u001b[43mmemory_map\u001b[49m\u001b[38;5;241;43m=\u001b[39;49m\u001b[38;5;28;43mself\u001b[39;49m\u001b[38;5;241;43m.\u001b[39;49m\u001b[43moptions\u001b[49m\u001b[38;5;241;43m.\u001b[39;49m\u001b[43mget\u001b[49m\u001b[43m(\u001b[49m\u001b[38;5;124;43m\"\u001b[39;49m\u001b[38;5;124;43mmemory_map\u001b[39;49m\u001b[38;5;124;43m\"\u001b[39;49m\u001b[43m,\u001b[49m\u001b[43m \u001b[49m\u001b[38;5;28;43;01mFalse\u001b[39;49;00m\u001b[43m)\u001b[49m\u001b[43m,\u001b[49m\n\u001b[0;32m   1886\u001b[0m \u001b[43m    \u001b[49m\u001b[43mis_text\u001b[49m\u001b[38;5;241;43m=\u001b[39;49m\u001b[43mis_text\u001b[49m\u001b[43m,\u001b[49m\n\u001b[0;32m   1887\u001b[0m \u001b[43m    \u001b[49m\u001b[43merrors\u001b[49m\u001b[38;5;241;43m=\u001b[39;49m\u001b[38;5;28;43mself\u001b[39;49m\u001b[38;5;241;43m.\u001b[39;49m\u001b[43moptions\u001b[49m\u001b[38;5;241;43m.\u001b[39;49m\u001b[43mget\u001b[49m\u001b[43m(\u001b[49m\u001b[38;5;124;43m\"\u001b[39;49m\u001b[38;5;124;43mencoding_errors\u001b[39;49m\u001b[38;5;124;43m\"\u001b[39;49m\u001b[43m,\u001b[49m\u001b[43m \u001b[49m\u001b[38;5;124;43m\"\u001b[39;49m\u001b[38;5;124;43mstrict\u001b[39;49m\u001b[38;5;124;43m\"\u001b[39;49m\u001b[43m)\u001b[49m\u001b[43m,\u001b[49m\n\u001b[0;32m   1888\u001b[0m \u001b[43m    \u001b[49m\u001b[43mstorage_options\u001b[49m\u001b[38;5;241;43m=\u001b[39;49m\u001b[38;5;28;43mself\u001b[39;49m\u001b[38;5;241;43m.\u001b[39;49m\u001b[43moptions\u001b[49m\u001b[38;5;241;43m.\u001b[39;49m\u001b[43mget\u001b[49m\u001b[43m(\u001b[49m\u001b[38;5;124;43m\"\u001b[39;49m\u001b[38;5;124;43mstorage_options\u001b[39;49m\u001b[38;5;124;43m\"\u001b[39;49m\u001b[43m,\u001b[49m\u001b[43m \u001b[49m\u001b[38;5;28;43;01mNone\u001b[39;49;00m\u001b[43m)\u001b[49m\u001b[43m,\u001b[49m\n\u001b[0;32m   1889\u001b[0m \u001b[43m\u001b[49m\u001b[43m)\u001b[49m\n\u001b[0;32m   1890\u001b[0m \u001b[38;5;28;01massert\u001b[39;00m \u001b[38;5;28mself\u001b[39m\u001b[38;5;241m.\u001b[39mhandles \u001b[38;5;129;01mis\u001b[39;00m \u001b[38;5;129;01mnot\u001b[39;00m \u001b[38;5;28;01mNone\u001b[39;00m\n\u001b[0;32m   1891\u001b[0m f \u001b[38;5;241m=\u001b[39m \u001b[38;5;28mself\u001b[39m\u001b[38;5;241m.\u001b[39mhandles\u001b[38;5;241m.\u001b[39mhandle\n",
      "File \u001b[1;32m~\\AppData\\Local\\Programs\\Python\\Python313\\Lib\\site-packages\\pandas\\io\\common.py:873\u001b[0m, in \u001b[0;36mget_handle\u001b[1;34m(path_or_buf, mode, encoding, compression, memory_map, is_text, errors, storage_options)\u001b[0m\n\u001b[0;32m    868\u001b[0m \u001b[38;5;28;01melif\u001b[39;00m \u001b[38;5;28misinstance\u001b[39m(handle, \u001b[38;5;28mstr\u001b[39m):\n\u001b[0;32m    869\u001b[0m     \u001b[38;5;66;03m# Check whether the filename is to be opened in binary mode.\u001b[39;00m\n\u001b[0;32m    870\u001b[0m     \u001b[38;5;66;03m# Binary mode does not support 'encoding' and 'newline'.\u001b[39;00m\n\u001b[0;32m    871\u001b[0m     \u001b[38;5;28;01mif\u001b[39;00m ioargs\u001b[38;5;241m.\u001b[39mencoding \u001b[38;5;129;01mand\u001b[39;00m \u001b[38;5;124m\"\u001b[39m\u001b[38;5;124mb\u001b[39m\u001b[38;5;124m\"\u001b[39m \u001b[38;5;129;01mnot\u001b[39;00m \u001b[38;5;129;01min\u001b[39;00m ioargs\u001b[38;5;241m.\u001b[39mmode:\n\u001b[0;32m    872\u001b[0m         \u001b[38;5;66;03m# Encoding\u001b[39;00m\n\u001b[1;32m--> 873\u001b[0m         handle \u001b[38;5;241m=\u001b[39m \u001b[38;5;28;43mopen\u001b[39;49m\u001b[43m(\u001b[49m\n\u001b[0;32m    874\u001b[0m \u001b[43m            \u001b[49m\u001b[43mhandle\u001b[49m\u001b[43m,\u001b[49m\n\u001b[0;32m    875\u001b[0m \u001b[43m            \u001b[49m\u001b[43mioargs\u001b[49m\u001b[38;5;241;43m.\u001b[39;49m\u001b[43mmode\u001b[49m\u001b[43m,\u001b[49m\n\u001b[0;32m    876\u001b[0m \u001b[43m            \u001b[49m\u001b[43mencoding\u001b[49m\u001b[38;5;241;43m=\u001b[39;49m\u001b[43mioargs\u001b[49m\u001b[38;5;241;43m.\u001b[39;49m\u001b[43mencoding\u001b[49m\u001b[43m,\u001b[49m\n\u001b[0;32m    877\u001b[0m \u001b[43m            \u001b[49m\u001b[43merrors\u001b[49m\u001b[38;5;241;43m=\u001b[39;49m\u001b[43merrors\u001b[49m\u001b[43m,\u001b[49m\n\u001b[0;32m    878\u001b[0m \u001b[43m            \u001b[49m\u001b[43mnewline\u001b[49m\u001b[38;5;241;43m=\u001b[39;49m\u001b[38;5;124;43m\"\u001b[39;49m\u001b[38;5;124;43m\"\u001b[39;49m\u001b[43m,\u001b[49m\n\u001b[0;32m    879\u001b[0m \u001b[43m        \u001b[49m\u001b[43m)\u001b[49m\n\u001b[0;32m    880\u001b[0m     \u001b[38;5;28;01melse\u001b[39;00m:\n\u001b[0;32m    881\u001b[0m         \u001b[38;5;66;03m# Binary mode\u001b[39;00m\n\u001b[0;32m    882\u001b[0m         handle \u001b[38;5;241m=\u001b[39m \u001b[38;5;28mopen\u001b[39m(handle, ioargs\u001b[38;5;241m.\u001b[39mmode)\n",
      "\u001b[1;31mFileNotFoundError\u001b[0m: [Errno 2] No such file or directory: 'C:\\\\Users\\\\Gursimar Singh Phull\\\\e'"
     ]
    }
   ],
   "source": [
    "if file.endswith(\".xlsx\"):\n",
    "    df=pd.read_xlsx(file)\n",
    "else:\n",
    "    df=pd.read_csv(file)"
   ]
  },
  {
   "cell_type": "code",
   "execution_count": 274,
   "id": "2ef7aa3c-042f-4270-aff5-e2169963f178",
   "metadata": {},
   "outputs": [],
   "source": [
    "data_segregation(df)"
   ]
  },
  {
   "cell_type": "code",
   "execution_count": 275,
   "id": "99c9192a-c04a-4c7f-af45-3d01559675f4",
   "metadata": {},
   "outputs": [
    {
     "name": "stdout",
     "output_type": "stream",
     "text": [
      "your numeric data looks like \n",
      "    age  sex  cp  trestbps  chol  fbs  restecg  thalach  exang  oldpeak  slope  \\\n",
      "0   63    1   3       145   233    1        0      150      0      2.3      0   \n",
      "1   37    1   2       130   250    0        1      187      0      3.5      0   \n",
      "2   41    0   1       130   204    0        0      172      0      1.4      2   \n",
      "3   56    1   1       120   236    0        1      178      0      0.8      2   \n",
      "4   57    0   0       120   354    0        1      163      1      0.6      2   \n",
      "\n",
      "   ca  thal  target   Z_SCORE  \n",
      "0   0     1       1  1.295017  \n",
      "1   0     2       1  0.990878  \n",
      "2   0     2       1  0.809660  \n",
      "3   0     2       1  0.714321  \n",
      "4   0     2       1  0.945431   \n",
      " your object data looks like \n",
      " Empty DataFrame\n",
      "Columns: []\n",
      "Index: [0, 1, 2, 3, 4]\n"
     ]
    }
   ],
   "source": [
    "print(f\"your numeric data looks like \\n {numeric.head(5)} \\n your object data looks like \\n {string.head(5)}\")"
   ]
  },
  {
   "cell_type": "code",
   "execution_count": 276,
   "id": "f3b5b82f-afa6-4e36-88a0-851b1f05d161",
   "metadata": {},
   "outputs": [],
   "source": [
    "numeric=numeric.drop_duplicates()"
   ]
  },
  {
   "cell_type": "code",
   "execution_count": 277,
   "id": "d1422b23-d21c-465e-afc3-dd54ca66341b",
   "metadata": {},
   "outputs": [],
   "source": [
    "string=string.drop_duplicates()"
   ]
  },
  {
   "cell_type": "code",
   "execution_count": 278,
   "id": "888a5abe-0c11-4ba3-ba32-2d480a227103",
   "metadata": {},
   "outputs": [],
   "source": [
    "from sklearn.preprocessing import  MinMaxScaler"
   ]
  },
  {
   "cell_type": "code",
   "execution_count": 279,
   "id": "4eab3d05-cc07-4079-9375-038e59f7c0b0",
   "metadata": {},
   "outputs": [],
   "source": [
    "scaler=MinMaxScaler()"
   ]
  },
  {
   "cell_type": "code",
   "execution_count": 280,
   "id": "053b3660-6b32-436d-a5de-2743521672cd",
   "metadata": {},
   "outputs": [],
   "source": [
    "numeric=pd.DataFrame(scaler.fit_transform(numeric))"
   ]
  },
  {
   "cell_type": "code",
   "execution_count": 281,
   "id": "d42a7eef-539f-4ae8-a7bb-37f283c61893",
   "metadata": {},
   "outputs": [],
   "source": [
    "numeric.columns=col # making the column easy \n"
   ]
  },
  {
   "cell_type": "code",
   "execution_count": 282,
   "id": "5bcb6ac0-eb7f-43b8-b9b6-13ae79c546fc",
   "metadata": {},
   "outputs": [
    {
     "name": "stdout",
     "output_type": "stream",
     "text": [
      "your data is transformed into numeric values to make it moreadvance to the machine \n",
      "         age  sex        cp  trestbps      chol  fbs  restecg   thalach  exang  \\\n",
      "0  0.708333  1.0  1.000000  0.481132  0.244292  1.0      0.0  0.603053    0.0   \n",
      "1  0.166667  1.0  0.666667  0.339623  0.283105  0.0      0.5  0.885496    0.0   \n",
      "2  0.250000  0.0  0.333333  0.339623  0.178082  0.0      0.0  0.770992    0.0   \n",
      "3  0.562500  1.0  0.333333  0.245283  0.251142  0.0      0.5  0.816794    0.0   \n",
      "4  0.583333  0.0  0.000000  0.245283  0.520548  0.0      0.5  0.702290    1.0   \n",
      "\n",
      "    oldpeak  slope   ca      thal  target   Z_SCORE  \n",
      "0  0.370968    0.0  0.0  0.333333     1.0  0.556360  \n",
      "1  0.564516    0.0  0.0  0.666667     1.0  0.306862  \n",
      "2  0.225806    1.0  0.0  0.666667     1.0  0.158201  \n",
      "3  0.129032    1.0  0.0  0.666667     1.0  0.079991  \n",
      "4  0.096774    1.0  0.0  0.666667     1.0  0.269580  \n"
     ]
    }
   ],
   "source": [
    "print(f\"your data is transformed into numeric values to make it moreadvance to the machine \\n { numeric.head(5)}\")"
   ]
  },
  {
   "cell_type": "code",
   "execution_count": 283,
   "id": "ddf6679d-9d4f-47bb-8956-4f3a39185695",
   "metadata": {},
   "outputs": [],
   "source": [
    "q1= numeric.quantile(0.25)\n",
    "q3=numeric.quantile(0.75)\n",
    "iqr=q3-q1\n"
   ]
  },
  {
   "cell_type": "code",
   "execution_count": 284,
   "id": "a355192d-9898-41e5-89c0-3c203635a1db",
   "metadata": {},
   "outputs": [
    {
     "data": {
      "text/plain": [
       "Text(0.5, 1.0, ' BEFORE CLEANING')"
      ]
     },
     "execution_count": 284,
     "metadata": {},
     "output_type": "execute_result"
    },
    {
     "data": {
      "image/png": "[encoded data removed]",
      "text/plain": [
       "<Figure size 640x480 with 1 Axes>"
      ]
     },
     "metadata": {},
     "output_type": "display_data"
    }
   ],
   "source": [
    "sns.boxplot(data=numeric)\n",
    "plt.title(' BEFORE CLEANING')\n"
   ]
  },
  {
   "cell_type": "code",
   "execution_count": 285,
   "id": "6e7fc998-5e1f-4792-b2f5-bbde1f83506c",
   "metadata": {},
   "outputs": [],
   "source": [
    "numeric=numeric[~((numeric > (q1- 1.5*iqr)) | (numeric < (q1+ 1.5*iqr)))] "
   ]
  },
  {
   "cell_type": "code",
   "execution_count": 286,
   "id": "37bbd59a-275d-4a4d-b3c7-e01ffa4cced3",
   "metadata": {},
   "outputs": [],
   "source": [
    "numeric = df.select_dtypes(include=\"number\")  # Ensure it remains a DataFrame\n",
    "\n",
    "numeric = numeric.clip(lower=(q1 - 1.5 * iqr), upper=(q3 + 1.5 * iqr), axis=1)\n",
    " \n"
   ]
  },
  {
   "cell_type": "code",
   "execution_count": 287,
   "id": "cd93288e-1711-4037-bb0c-08c914db0d83",
   "metadata": {},
   "outputs": [
    {
     "data": {
      "text/plain": [
       "Text(0.5, 1.0, 'AFTER CLEANING')"
      ]
     },
     "execution_count": 287,
     "metadata": {},
     "output_type": "execute_result"
    },
    {
     "data": {
      "image/png": "[encoded data removed]",
      "text/plain": [
       "<Figure size 640x480 with 1 Axes>"
      ]
     },
     "metadata": {},
     "output_type": "display_data"
    }
   ],
   "source": [
    "sns.boxplot(data=numeric,showfliers=False)\n",
    "plt.title('AFTER CLEANING')"
   ]
  },
  {
   "cell_type": "code",
   "execution_count": 288,
   "id": "5b77c82d-696b-486a-a96b-0e1aa0a6e56c",
   "metadata": {},
   "outputs": [],
   "source": [
    "# re moved identifier now further cleaning starts now ( advance mode)\n",
    "Z_SCORE=((numeric-numeric.median())/numeric.std()) \n"
   ]
  },
  {
   "cell_type": "code",
   "execution_count": 289,
   "id": "611fb7f2-42cc-407d-a081-c92beddd2a53",
   "metadata": {},
   "outputs": [],
   "source": [
    "mean_vals = numeric.mean()\n",
    "std_vals = numeric.std()\n",
    "\n"
   ]
  },
  {
   "cell_type": "code",
   "execution_count": 290,
   "id": "abfdac06-5dc9-4417-acd2-bcf7cc457e0b",
   "metadata": {},
   "outputs": [],
   "source": [
    "# Replace zero standard deviations with NaN to avoid division by zero\n",
    "std_vals[std_vals == 0] = np.nan  "
   ]
  },
  {
   "cell_type": "code",
   "execution_count": 291,
   "id": "293ca976-9d49-4086-8388-5b9c771ca4d9",
   "metadata": {},
   "outputs": [],
   "source": [
    "# Apply Z-score normalization for each numeric column\n",
    "z_scores = (numeric - mean_vals) / std_vals  \n",
    "# Take absolute values to ensure all Z-scores are positive\n",
    "z_scores = z_scores.abs()   \n",
    "\n",
    "\n"
   ]
  },
  {
   "cell_type": "code",
   "execution_count": 292,
   "id": "dc240620-4e5d-42fa-b0d3-b9b832130601",
   "metadata": {},
   "outputs": [],
   "source": [
    "# Compute final Z-score as the mean of all feature Z-scores\n",
    "numeric[\"Z_SCORE\"] = z_scores.mean(axis=1)\n"
   ]
  },
  {
   "cell_type": "code",
   "execution_count": 293,
   "id": "8e585e2c-9ca9-4f64-9be0-3eeb84eb4c16",
   "metadata": {},
   "outputs": [],
   "source": [
    "numeric=numeric.query(\"Z_SCORE <3\")"
   ]
  },
  {
   "cell_type": "raw",
   "id": "7eba7521-21f4-4847-8bca-9355265f61e0",
   "metadata": {},
   "source": [
    "                                                            REPRESENTING IT IN EXCEL SHEET QUERY\n"
   ]
  },
  {
   "cell_type": "code",
   "execution_count": 294,
   "id": "d9d77262-3210-493e-b024-d7a6f4221dc6",
   "metadata": {},
   "outputs": [
    {
     "data": {
      "text/html": [
       "<div>\n",
       "<style scoped>\n",
       "    .dataframe tbody tr th:only-of-type {\n",
       "        vertical-align: middle;\n",
       "    }\n",
       "\n",
       "    .dataframe tbody tr th {\n",
       "        vertical-align: top;\n",
       "    }\n",
       "\n",
       "    .dataframe thead th {\n",
       "        text-align: right;\n",
       "    }\n",
       "</style>\n",
       "<table border=\"1\" class=\"dataframe\">\n",
       "  <thead>\n",
       "    <tr style=\"text-align: right;\">\n",
       "      <th></th>\n",
       "      <th>age</th>\n",
       "      <th>sex</th>\n",
       "      <th>cp</th>\n",
       "      <th>trestbps</th>\n",
       "      <th>chol</th>\n",
       "      <th>fbs</th>\n",
       "      <th>restecg</th>\n",
       "      <th>thalach</th>\n",
       "      <th>exang</th>\n",
       "      <th>oldpeak</th>\n",
       "      <th>slope</th>\n",
       "      <th>ca</th>\n",
       "      <th>thal</th>\n",
       "      <th>target</th>\n",
       "      <th>Z_SCORE</th>\n",
       "    </tr>\n",
       "  </thead>\n",
       "  <tbody>\n",
       "    <tr>\n",
       "      <th>0</th>\n",
       "      <td>1.072917</td>\n",
       "      <td>1</td>\n",
       "      <td>1.666667</td>\n",
       "      <td>0.716981</td>\n",
       "      <td>0.557934</td>\n",
       "      <td>0</td>\n",
       "      <td>0.0</td>\n",
       "      <td>1.100191</td>\n",
       "      <td>0</td>\n",
       "      <td>0.645161</td>\n",
       "      <td>0.00</td>\n",
       "      <td>0.000</td>\n",
       "      <td>1.0</td>\n",
       "      <td>1</td>\n",
       "      <td>1.295017</td>\n",
       "    </tr>\n",
       "    <tr>\n",
       "      <th>1</th>\n",
       "      <td>1.072917</td>\n",
       "      <td>1</td>\n",
       "      <td>1.666667</td>\n",
       "      <td>0.716981</td>\n",
       "      <td>0.557934</td>\n",
       "      <td>0</td>\n",
       "      <td>1.0</td>\n",
       "      <td>1.100191</td>\n",
       "      <td>0</td>\n",
       "      <td>0.645161</td>\n",
       "      <td>0.00</td>\n",
       "      <td>0.000</td>\n",
       "      <td>1.5</td>\n",
       "      <td>1</td>\n",
       "      <td>0.990878</td>\n",
       "    </tr>\n",
       "    <tr>\n",
       "      <th>2</th>\n",
       "      <td>1.072917</td>\n",
       "      <td>0</td>\n",
       "      <td>1.000000</td>\n",
       "      <td>0.716981</td>\n",
       "      <td>0.557934</td>\n",
       "      <td>0</td>\n",
       "      <td>0.0</td>\n",
       "      <td>1.100191</td>\n",
       "      <td>0</td>\n",
       "      <td>0.645161</td>\n",
       "      <td>1.75</td>\n",
       "      <td>0.000</td>\n",
       "      <td>1.5</td>\n",
       "      <td>1</td>\n",
       "      <td>0.809660</td>\n",
       "    </tr>\n",
       "    <tr>\n",
       "      <th>3</th>\n",
       "      <td>1.072917</td>\n",
       "      <td>1</td>\n",
       "      <td>1.000000</td>\n",
       "      <td>0.716981</td>\n",
       "      <td>0.557934</td>\n",
       "      <td>0</td>\n",
       "      <td>1.0</td>\n",
       "      <td>1.100191</td>\n",
       "      <td>0</td>\n",
       "      <td>0.645161</td>\n",
       "      <td>1.75</td>\n",
       "      <td>0.000</td>\n",
       "      <td>1.5</td>\n",
       "      <td>1</td>\n",
       "      <td>0.714321</td>\n",
       "    </tr>\n",
       "    <tr>\n",
       "      <th>4</th>\n",
       "      <td>1.072917</td>\n",
       "      <td>0</td>\n",
       "      <td>0.000000</td>\n",
       "      <td>0.716981</td>\n",
       "      <td>0.557934</td>\n",
       "      <td>0</td>\n",
       "      <td>1.0</td>\n",
       "      <td>1.100191</td>\n",
       "      <td>1</td>\n",
       "      <td>0.600000</td>\n",
       "      <td>1.75</td>\n",
       "      <td>0.000</td>\n",
       "      <td>1.5</td>\n",
       "      <td>1</td>\n",
       "      <td>0.945431</td>\n",
       "    </tr>\n",
       "    <tr>\n",
       "      <th>...</th>\n",
       "      <td>...</td>\n",
       "      <td>...</td>\n",
       "      <td>...</td>\n",
       "      <td>...</td>\n",
       "      <td>...</td>\n",
       "      <td>...</td>\n",
       "      <td>...</td>\n",
       "      <td>...</td>\n",
       "      <td>...</td>\n",
       "      <td>...</td>\n",
       "      <td>...</td>\n",
       "      <td>...</td>\n",
       "      <td>...</td>\n",
       "      <td>...</td>\n",
       "      <td>...</td>\n",
       "    </tr>\n",
       "    <tr>\n",
       "      <th>298</th>\n",
       "      <td>1.072917</td>\n",
       "      <td>0</td>\n",
       "      <td>0.000000</td>\n",
       "      <td>0.716981</td>\n",
       "      <td>0.557934</td>\n",
       "      <td>0</td>\n",
       "      <td>1.0</td>\n",
       "      <td>1.100191</td>\n",
       "      <td>1</td>\n",
       "      <td>0.200000</td>\n",
       "      <td>1.00</td>\n",
       "      <td>0.000</td>\n",
       "      <td>1.5</td>\n",
       "      <td>0</td>\n",
       "      <td>0.916128</td>\n",
       "    </tr>\n",
       "    <tr>\n",
       "      <th>299</th>\n",
       "      <td>1.072917</td>\n",
       "      <td>1</td>\n",
       "      <td>1.666667</td>\n",
       "      <td>0.716981</td>\n",
       "      <td>0.557934</td>\n",
       "      <td>0</td>\n",
       "      <td>1.0</td>\n",
       "      <td>1.100191</td>\n",
       "      <td>0</td>\n",
       "      <td>0.645161</td>\n",
       "      <td>1.00</td>\n",
       "      <td>0.000</td>\n",
       "      <td>1.5</td>\n",
       "      <td>0</td>\n",
       "      <td>0.790319</td>\n",
       "    </tr>\n",
       "    <tr>\n",
       "      <th>300</th>\n",
       "      <td>1.072917</td>\n",
       "      <td>1</td>\n",
       "      <td>0.000000</td>\n",
       "      <td>0.716981</td>\n",
       "      <td>0.557934</td>\n",
       "      <td>0</td>\n",
       "      <td>1.0</td>\n",
       "      <td>1.100191</td>\n",
       "      <td>0</td>\n",
       "      <td>0.645161</td>\n",
       "      <td>1.00</td>\n",
       "      <td>0.625</td>\n",
       "      <td>1.5</td>\n",
       "      <td>0</td>\n",
       "      <td>0.806734</td>\n",
       "    </tr>\n",
       "    <tr>\n",
       "      <th>301</th>\n",
       "      <td>1.072917</td>\n",
       "      <td>1</td>\n",
       "      <td>0.000000</td>\n",
       "      <td>0.716981</td>\n",
       "      <td>0.557934</td>\n",
       "      <td>0</td>\n",
       "      <td>1.0</td>\n",
       "      <td>1.100191</td>\n",
       "      <td>1</td>\n",
       "      <td>0.645161</td>\n",
       "      <td>1.00</td>\n",
       "      <td>0.625</td>\n",
       "      <td>1.5</td>\n",
       "      <td>0</td>\n",
       "      <td>0.888693</td>\n",
       "    </tr>\n",
       "    <tr>\n",
       "      <th>302</th>\n",
       "      <td>1.072917</td>\n",
       "      <td>0</td>\n",
       "      <td>1.000000</td>\n",
       "      <td>0.716981</td>\n",
       "      <td>0.557934</td>\n",
       "      <td>0</td>\n",
       "      <td>0.0</td>\n",
       "      <td>1.100191</td>\n",
       "      <td>0</td>\n",
       "      <td>0.000000</td>\n",
       "      <td>1.00</td>\n",
       "      <td>0.625</td>\n",
       "      <td>1.5</td>\n",
       "      <td>0</td>\n",
       "      <td>0.872935</td>\n",
       "    </tr>\n",
       "  </tbody>\n",
       "</table>\n",
       "<p>303 rows × 15 columns</p>\n",
       "</div>"
      ],
      "text/plain": [
       "          age  sex        cp  trestbps      chol  fbs  restecg   thalach  \\\n",
       "0    1.072917    1  1.666667  0.716981  0.557934    0      0.0  1.100191   \n",
       "1    1.072917    1  1.666667  0.716981  0.557934    0      1.0  1.100191   \n",
       "2    1.072917    0  1.000000  0.716981  0.557934    0      0.0  1.100191   \n",
       "3    1.072917    1  1.000000  0.716981  0.557934    0      1.0  1.100191   \n",
       "4    1.072917    0  0.000000  0.716981  0.557934    0      1.0  1.100191   \n",
       "..        ...  ...       ...       ...       ...  ...      ...       ...   \n",
       "298  1.072917    0  0.000000  0.716981  0.557934    0      1.0  1.100191   \n",
       "299  1.072917    1  1.666667  0.716981  0.557934    0      1.0  1.100191   \n",
       "300  1.072917    1  0.000000  0.716981  0.557934    0      1.0  1.100191   \n",
       "301  1.072917    1  0.000000  0.716981  0.557934    0      1.0  1.100191   \n",
       "302  1.072917    0  1.000000  0.716981  0.557934    0      0.0  1.100191   \n",
       "\n",
       "     exang   oldpeak  slope     ca  thal  target   Z_SCORE  \n",
       "0        0  0.645161   0.00  0.000   1.0       1  1.295017  \n",
       "1        0  0.645161   0.00  0.000   1.5       1  0.990878  \n",
       "2        0  0.645161   1.75  0.000   1.5       1  0.809660  \n",
       "3        0  0.645161   1.75  0.000   1.5       1  0.714321  \n",
       "4        1  0.600000   1.75  0.000   1.5       1  0.945431  \n",
       "..     ...       ...    ...    ...   ...     ...       ...  \n",
       "298      1  0.200000   1.00  0.000   1.5       0  0.916128  \n",
       "299      0  0.645161   1.00  0.000   1.5       0  0.790319  \n",
       "300      0  0.645161   1.00  0.625   1.5       0  0.806734  \n",
       "301      1  0.645161   1.00  0.625   1.5       0  0.888693  \n",
       "302      0  0.000000   1.00  0.625   1.5       0  0.872935  \n",
       "\n",
       "[303 rows x 15 columns]"
      ]
     },
     "execution_count": 294,
     "metadata": {},
     "output_type": "execute_result"
    }
   ],
   "source": [
    "numeric"
   ]
  },
  {
   "cell_type": "code",
   "execution_count": 295,
   "id": "95e94625-e43b-4b97-a06d-0f9449d9f5d2",
   "metadata": {},
   "outputs": [
    {
     "name": "stdin",
     "output_type": "stream",
     "text": [
      "enter the column u want to be relating with  1\n"
     ]
    }
   ],
   "source": [
    "indexx=input(\"enter the column u want to be relating with \")\n",
    " \n"
   ]
  },
  {
   "cell_type": "code",
   "execution_count": 296,
   "id": "ea1d6276-2789-4af0-afc8-88088537adfe",
   "metadata": {},
   "outputs": [
    {
     "data": {
      "text/plain": [
       "Index(['age', 'sex', 'cp', 'trestbps', 'chol', 'fbs', 'restecg', 'thalach',\n",
       "       'exang', 'oldpeak', 'slope', 'ca', 'thal', 'target', 'Z_SCORE'],\n",
       "      dtype='object')"
      ]
     },
     "execution_count": 296,
     "metadata": {},
     "output_type": "execute_result"
    }
   ],
   "source": [
    "col \n",
    "\n"
   ]
  },
  {
   "cell_type": "code",
   "execution_count": 244,
   "id": "f2caacc4-06b3-48d6-bd39-954aba7843a0",
   "metadata": {},
   "outputs": [
    {
     "name": "stdin",
     "output_type": "stream",
     "text": [
      "enter the index value of column of u want to start the column with 1\n"
     ]
    }
   ],
   "source": [
    "start=int(input(\"enter the index value of column of u want to start the column with\"))\n"
   ]
  },
  {
   "cell_type": "code",
   "execution_count": 245,
   "id": "993cd671-4efb-49ef-b2b4-d9f9264ef5e8",
   "metadata": {},
   "outputs": [
    {
     "name": "stdin",
     "output_type": "stream",
     "text": [
      "enter the index value of column of u want to end  the table with -1\n"
     ]
    }
   ],
   "source": [
    "\n",
    "endie=int(input(\"enter the index value of column of u want to end  the table with\"))"
   ]
  },
  {
   "cell_type": "code",
   "execution_count": 297,
   "id": "07cc6d58-0c41-4156-8386-f53d5d69914c",
   "metadata": {},
   "outputs": [],
   "source": [
    "valuee=col[start:endie]"
   ]
  },
  {
   "cell_type": "code",
   "execution_count": null,
   "id": "22f6059e-d4f4-4675-8080-6b42f366a3aa",
   "metadata": {},
   "outputs": [],
   "source": [
    "\n"
   ]
  },
  {
   "cell_type": "code",
   "execution_count": 298,
   "id": "029e320d-b44f-41ef-bcd9-7935ca9adfaa",
   "metadata": {},
   "outputs": [],
   "source": [
    "index = col[start]  # Single index column\n",
    "valuee = col[start+1:endie]  # Value columns\n",
    "\n"
   ]
  },
  {
   "cell_type": "code",
   "execution_count": 299,
   "id": "dc189a53-cd82-4bab-8a88-588950b67954",
   "metadata": {},
   "outputs": [
    {
     "name": "stdout",
     "output_type": "stream",
     "text": [
      "Fixed Index Column: sex\n"
     ]
    }
   ],
   "source": [
    "print(\"Fixed Index Column:\", index)"
   ]
  },
  {
   "cell_type": "code",
   "execution_count": 300,
   "id": "5550a60a-2e93-475d-b5dd-7791ac747885",
   "metadata": {},
   "outputs": [
    {
     "name": "stdout",
     "output_type": "stream",
     "text": [
      "Fixed Value Columns: Index(['cp', 'trestbps', 'chol', 'fbs', 'restecg', 'thalach', 'exang',\n",
      "       'oldpeak', 'slope', 'ca', 'thal', 'target'],\n",
      "      dtype='object')\n"
     ]
    }
   ],
   "source": [
    "print(\"Fixed Value Columns:\", valuee)"
   ]
  },
  {
   "cell_type": "code",
   "execution_count": 301,
   "id": "503399de-6903-4de0-824a-3d4c18ffecb5",
   "metadata": {},
   "outputs": [
    {
     "data": {
      "text/html": [
       "<div>\n",
       "<style scoped>\n",
       "    .dataframe tbody tr th:only-of-type {\n",
       "        vertical-align: middle;\n",
       "    }\n",
       "\n",
       "    .dataframe tbody tr th {\n",
       "        vertical-align: top;\n",
       "    }\n",
       "\n",
       "    .dataframe thead tr th {\n",
       "        text-align: left;\n",
       "    }\n",
       "\n",
       "    .dataframe thead tr:last-of-type th {\n",
       "        text-align: right;\n",
       "    }\n",
       "</style>\n",
       "<table border=\"1\" class=\"dataframe\">\n",
       "  <thead>\n",
       "    <tr>\n",
       "      <th></th>\n",
       "      <th colspan=\"2\" halign=\"left\">ca</th>\n",
       "      <th colspan=\"2\" halign=\"left\">chol</th>\n",
       "      <th colspan=\"2\" halign=\"left\">cp</th>\n",
       "      <th colspan=\"2\" halign=\"left\">exang</th>\n",
       "      <th colspan=\"2\" halign=\"left\">fbs</th>\n",
       "      <th>...</th>\n",
       "      <th colspan=\"2\" halign=\"left\">slope</th>\n",
       "      <th colspan=\"2\" halign=\"left\">target</th>\n",
       "      <th colspan=\"2\" halign=\"left\">thal</th>\n",
       "      <th colspan=\"2\" halign=\"left\">thalach</th>\n",
       "      <th colspan=\"2\" halign=\"left\">trestbps</th>\n",
       "    </tr>\n",
       "    <tr>\n",
       "      <th></th>\n",
       "      <th>median</th>\n",
       "      <th>sum</th>\n",
       "      <th>median</th>\n",
       "      <th>sum</th>\n",
       "      <th>median</th>\n",
       "      <th>sum</th>\n",
       "      <th>median</th>\n",
       "      <th>sum</th>\n",
       "      <th>median</th>\n",
       "      <th>sum</th>\n",
       "      <th>...</th>\n",
       "      <th>median</th>\n",
       "      <th>sum</th>\n",
       "      <th>median</th>\n",
       "      <th>sum</th>\n",
       "      <th>median</th>\n",
       "      <th>sum</th>\n",
       "      <th>median</th>\n",
       "      <th>sum</th>\n",
       "      <th>median</th>\n",
       "      <th>sum</th>\n",
       "    </tr>\n",
       "    <tr>\n",
       "      <th>sex</th>\n",
       "      <th></th>\n",
       "      <th></th>\n",
       "      <th></th>\n",
       "      <th></th>\n",
       "      <th></th>\n",
       "      <th></th>\n",
       "      <th></th>\n",
       "      <th></th>\n",
       "      <th></th>\n",
       "      <th></th>\n",
       "      <th></th>\n",
       "      <th></th>\n",
       "      <th></th>\n",
       "      <th></th>\n",
       "      <th></th>\n",
       "      <th></th>\n",
       "      <th></th>\n",
       "      <th></th>\n",
       "      <th></th>\n",
       "      <th></th>\n",
       "      <th></th>\n",
       "    </tr>\n",
       "  </thead>\n",
       "  <tbody>\n",
       "    <tr>\n",
       "      <th>0</th>\n",
       "      <td>0.0</td>\n",
       "      <td>20.0</td>\n",
       "      <td>0.557934</td>\n",
       "      <td>53.561647</td>\n",
       "      <td>1.0</td>\n",
       "      <td>83.000002</td>\n",
       "      <td>0.0</td>\n",
       "      <td>22</td>\n",
       "      <td>0.0</td>\n",
       "      <td>0</td>\n",
       "      <td>...</td>\n",
       "      <td>1.0</td>\n",
       "      <td>125.5</td>\n",
       "      <td>1.0</td>\n",
       "      <td>72</td>\n",
       "      <td>1.5</td>\n",
       "      <td>142.166664</td>\n",
       "      <td>1.100191</td>\n",
       "      <td>105.618319</td>\n",
       "      <td>0.716981</td>\n",
       "      <td>68.830187</td>\n",
       "    </tr>\n",
       "    <tr>\n",
       "      <th>1</th>\n",
       "      <td>0.0</td>\n",
       "      <td>60.0</td>\n",
       "      <td>0.557934</td>\n",
       "      <td>115.492301</td>\n",
       "      <td>0.0</td>\n",
       "      <td>150.333337</td>\n",
       "      <td>0.0</td>\n",
       "      <td>77</td>\n",
       "      <td>0.0</td>\n",
       "      <td>0</td>\n",
       "      <td>...</td>\n",
       "      <td>1.0</td>\n",
       "      <td>263.0</td>\n",
       "      <td>0.0</td>\n",
       "      <td>93</td>\n",
       "      <td>1.5</td>\n",
       "      <td>300.666661</td>\n",
       "      <td>1.100191</td>\n",
       "      <td>227.739499</td>\n",
       "      <td>0.716981</td>\n",
       "      <td>148.415090</td>\n",
       "    </tr>\n",
       "  </tbody>\n",
       "</table>\n",
       "<p>2 rows × 24 columns</p>\n",
       "</div>"
      ],
      "text/plain": [
       "        ca            chol                 cp              exang        fbs  \\\n",
       "    median   sum    median         sum median         sum median sum median   \n",
       "sex                                                                           \n",
       "0      0.0  20.0  0.557934   53.561647    1.0   83.000002    0.0  22    0.0   \n",
       "1      0.0  60.0  0.557934  115.492301    0.0  150.333337    0.0  77    0.0   \n",
       "\n",
       "         ...  slope        target       thal               thalach  \\\n",
       "    sum  ... median    sum median sum median         sum    median   \n",
       "sex      ...                                                         \n",
       "0     0  ...    1.0  125.5    1.0  72    1.5  142.166664  1.100191   \n",
       "1     0  ...    1.0  263.0    0.0  93    1.5  300.666661  1.100191   \n",
       "\n",
       "                 trestbps              \n",
       "            sum    median         sum  \n",
       "sex                                    \n",
       "0    105.618319  0.716981   68.830187  \n",
       "1    227.739499  0.716981  148.415090  \n",
       "\n",
       "[2 rows x 24 columns]"
      ]
     },
     "execution_count": 301,
     "metadata": {},
     "output_type": "execute_result"
    }
   ],
   "source": [
    "numeric.pivot_table(index=index, values=valuee, aggfunc=(\"sum\", \"median\"))\n",
    "\n",
    "\n"
   ]
  },
  {
   "cell_type": "code",
   "execution_count": 302,
   "id": "1c0f92e4-1212-48df-8c4a-46c20f2f50ff",
   "metadata": {},
   "outputs": [
    {
     "name": "stdout",
     "output_type": "stream",
     "text": [
      "plot the respectiv egraph u want to plot and you will be done\n"
     ]
    }
   ],
   "source": [
    "print(\"plot the respectiv egraph u want to plot and you will be done\")"
   ]
  },
  {
   "cell_type": "code",
   "execution_count": null,
   "id": "bc7a401d-c7ae-4a5e-b2cf-a0161fffb031",
   "metadata": {},
   "outputs": [],
   "source": []
  },
  {
   "cell_type": "code",
   "execution_count": null,
   "id": "d5203d60-371c-4cc4-8aa3-a23e57e96693",
   "metadata": {},
   "outputs": [],
   "source": []
  },
  {
   "cell_type": "code",
   "execution_count": null,
   "id": "ffb07b0b-4fdd-4f81-80ce-2b9f37113a10",
   "metadata": {},
   "outputs": [],
   "source": []
  }
 ],
 "metadata": {
  "kernelspec": {
   "display_name": "Python 3 (ipykernel)",
   "language": "python",
   "name": "python3"
  },
  "language_info": {
   "codemirror_mode": {
    "name": "ipython",
    "version": 3
   },
   "file_extension": ".py",
   "mimetype": "text/x-python",
   "name": "python",
   "nbconvert_exporter": "python",
   "pygments_lexer": "ipython3",
   "version": "3.13.0"
  }
 },
 "nbformat": 4,
 "nbformat_minor": 5
}
